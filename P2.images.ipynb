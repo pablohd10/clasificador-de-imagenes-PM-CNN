{
  "nbformat": 4,
  "nbformat_minor": 0,
  "metadata": {
    "colab": {
      "provenance": [],
      "include_colab_link": true
    },
    "kernelspec": {
      "name": "python3",
      "display_name": "Python 3"
    },
    "language_info": {
      "name": "python"
    },
    "accelerator": "TPU"
  },
  "cells": [
    {
      "cell_type": "markdown",
      "metadata": {
        "id": "view-in-github",
        "colab_type": "text"
      },
      "source": [
        "<a href=\"https://colab.research.google.com/github/pablohd10/P2.2-RRNN/blob/main/P2.images.ipynb\" target=\"_parent\"><img src=\"https://colab.research.google.com/assets/colab-badge.svg\" alt=\"Open In Colab\"/></a>"
      ]
    },
    {
      "cell_type": "markdown",
      "source": [
        "![LogoUC3M](data:image/png;base64,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)\n",
        "\n",
        "# PRÁCTICA 2.2: REDES DE NEURONAS\n",
        "Autores: Pablo Hidalgo Delgado y Marcos Caballero Cortés   \n",
        "\n",
        "NIAs: 100451225 y 100451047\n"
      ],
      "metadata": {
        "id": "EmYCUYAaj0kB"
      }
    },
    {
      "cell_type": "markdown",
      "source": [
        "# 1.- Introducción"
      ],
      "metadata": {
        "id": "ySsPhtP_daYu"
      }
    },
    {
      "cell_type": "markdown",
      "source": [
        "# 2.- Importación de las librerías"
      ],
      "metadata": {
        "id": "NUZIf1NreGZz"
      }
    },
    {
      "cell_type": "code",
      "source": [
        "import tensorflow as tf\n",
        "import numpy as np\n",
        "import os"
      ],
      "metadata": {
        "id": "9ou4Qsamgb7C"
      },
      "execution_count": 1,
      "outputs": []
    },
    {
      "cell_type": "markdown",
      "source": [
        "# 3.- Preproceso"
      ],
      "metadata": {
        "id": "4lwXMQCLhOsW"
      }
    },
    {
      "cell_type": "code",
      "source": [
        "category_names = {\n",
        "0: 'agricultural',\n",
        "1: 'airplane',\n",
        "2: 'baseballdiamond',\n",
        "3: 'beach',\n",
        "4: 'buildings',\n",
        "5: 'chaparral',\n",
        "6: 'denseresidential',\n",
        "7: 'forest',\n",
        "8: 'freeway',\n",
        "9: 'golfcourse',\n",
        "10: 'harbor',\n",
        "11: 'intersection',\n",
        "12: 'mediumresidential',\n",
        "13: 'mobilehomepark',\n",
        "14: 'overpass',\n",
        "15: 'parkinglot',\n",
        "16: 'river',\n",
        "17: 'runway',\n",
        "18: 'sparseresidential',\n",
        "19: 'storagetanks',\n",
        "20: 'tenniscourt'}"
      ],
      "metadata": {
        "id": "5nKjIq7Zj5dy"
      },
      "execution_count": 6,
      "outputs": []
    },
    {
      "cell_type": "markdown",
      "source": [
        "# 4.- PM"
      ],
      "metadata": {
        "id": "7BnP3qCrhSwL"
      }
    },
    {
      "cell_type": "markdown",
      "source": [
        "# 5.- CNN"
      ],
      "metadata": {
        "id": "tuXetTBGi5WI"
      }
    }
  ]
}